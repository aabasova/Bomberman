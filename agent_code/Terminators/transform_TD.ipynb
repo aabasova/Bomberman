{
 "cells": [
  {
   "cell_type": "code",
   "execution_count": 3,
   "metadata": {},
   "outputs": [],
   "source": [
    "import pandas as pd\n",
    "from sklearn.decomposition import PCA\n",
    "from sklearn.preprocessing import StandardScaler\n",
    "import numpy as np\n",
    "import pickle\n",
    "import matplotlib.pyplot as plt\n",
    "import itertools"
   ]
  },
  {
   "cell_type": "markdown",
   "metadata": {},
   "source": [
    "Analysis of q_table"
   ]
  },
  {
   "cell_type": "code",
   "execution_count": 46,
   "metadata": {},
   "outputs": [],
   "source": [
    "# data/q_table-task2-PaperRewards2.csv\n",
    "q_path = \"data/q_table-task2-PaperRewards.csv\"\n",
    "def open_q():\n",
    "    with open(q_path, \"rb\") as file:\n",
    "        q_table = pickle.load(file)\n",
    "    print(\"length \", len(q_table))\n",
    "\n",
    "    return q_table\n"
   ]
  },
  {
   "cell_type": "code",
   "execution_count": 48,
   "metadata": {},
   "outputs": [
    {
     "name": "stdout",
     "output_type": "stream",
     "text": [
      "length  24716\n",
      "NOn zero:  [23326 19967 13781 10580  7490  7567]\n",
      "Number of values:  148296\n",
      "Number of zero values:  65585, and overall 44.23%\n"
     ]
    }
   ],
   "source": [
    "q_table = open_q()\n",
    "key = (2.0, 3.0, 1.0, 1.0, 0.0, 0.0, 1.0, 13.0, 0.0, 0.0)\n",
    "#h = np.around(np.array(q_table[key]), 3)\n",
    "#print(h)\n",
    "\n",
    "keys = list(q_table.keys())\n",
    "val = list(q_table.values())\n",
    "qq = np.array(val)\n",
    "\n",
    "\n",
    "all_values = len(q_table) * 6\n",
    "non_zerp = np.count_nonzero(qq)\n",
    "print(\"NOn zero: \", np.count_nonzero(qq, axis=0))\n",
    "print(\"Number of values: \", len(q_table) * 6)\n",
    "print(\n",
    "    f\"Number of zero values:  {all_values - non_zerp}, and overall {(1 - (non_zerp/all_values)) *100:.2f}%\")"
   ]
  },
  {
   "cell_type": "markdown",
   "metadata": {},
   "source": [
    "Clean csv from 6-element states"
   ]
  },
  {
   "cell_type": "code",
   "execution_count": 20,
   "metadata": {},
   "outputs": [
    {
     "name": "stdout",
     "output_type": "stream",
     "text": [
      "<class 'dict'>\n",
      "First table has 12117 states\n",
      "First table has 8799 states\n"
     ]
    }
   ],
   "source": [
    "with open(\"/Users/angelinabasova/Library/CloudStorage/OneDrive-bwedu/bomberman_rl_dev/agent_code/OWN/q_tableSVEN.csv\", \"rb\") as file:\n",
    "    q_table = pickle.load(file)\n",
    "\n",
    "keys = list(q_table.keys())\n",
    "dictionary = {}\n",
    "for (state, values) in q_table.items():\n",
    "     if len(state) == 10:\n",
    "         dictionary[state]= values\n",
    "\n",
    "print(type(dictionary))\n",
    "print(f\"First table has {len(q_table)} states\")\n",
    "print(f\"First table has {len(dictionary)} states\")\n",
    "\n",
    "\n",
    "with open(\"/Users/angelinabasova/Library/CloudStorage/OneDrive-bwedu/bomberman_rl_dev/agent_code/OWN/q_tableSVEN_clean.csv\", \"wb\") as file:\n",
    "    pickle.dump(dictionary, file)\n"
   ]
  },
  {
   "cell_type": "code",
   "execution_count": 36,
   "metadata": {},
   "outputs": [
    {
     "name": "stdout",
     "output_type": "stream",
     "text": [
      "1. table has 8799 states\n",
      "2. table has 3318 states\n",
      "3. table has 3318 states\n",
      "Final table has 12117 states\n"
     ]
    }
   ],
   "source": [
    "q_path_ANGELINA = \"/q_tableSVEN_clean.csv\"\n",
    "q_path_SVEN = \"q_table.csv\"\n",
    "q_path_TOBIAS = \"q_table.csv\"\n",
    "\n",
    "with open(q_path_ANGELINA, \"rb\") as file:\n",
    "    q_table1 = pickle.load(file)\n",
    "\n",
    "with open(q_path_SVEN, \"rb\") as file:\n",
    "    q_table2 = pickle.load(file)\n",
    "\n",
    "with open(q_path_TOBIAS, \"rb\") as file:\n",
    "    q_table3 = pickle.load(file)\n",
    "\n",
    "print(f\"1. table has {len(q_table1)} states\")\n",
    "print(f\"2. table has {len(q_table2)} states\")\n",
    "print(f\"3. table has {len(q_table3)} states\")\n",
    "\n",
    "#merge the three q_tables. Duplicate states are possibly overwritten by the values of one of the q_tables.\n",
    "q_table1.update(q_table2)\n",
    "q_table1.update(q_table3)\n",
    "\n",
    "type(q_table1)\n",
    "print(f\"Final table has {len(q_table1)} states\")\n",
    "\n",
    "with open(\"/data/q_table-final.csv\", \"wb\") as file:\n",
    "    pickle.dump(q_table1, file)\n"
   ]
  },
  {
   "cell_type": "code",
   "execution_count": 385,
   "metadata": {},
   "outputs": [
    {
     "name": "stdout",
     "output_type": "stream",
     "text": [
      "unique values of index 0: {0.0}\n",
      "Num of unique values:  1\n",
      "\n",
      "unique values of index 1: {0.0}\n",
      "Num of unique values:  1\n",
      "\n",
      "unique values of index 2: {0.0, 1.0}\n",
      "Num of unique values:  2\n",
      "\n",
      "unique values of index 3: {0.0, 1.0}\n",
      "Num of unique values:  2\n",
      "\n",
      "unique values of index 4: {0.0, 1.0}\n",
      "Num of unique values:  2\n",
      "\n",
      "unique values of index 5: {0.0, 1.0}\n",
      "Num of unique values:  2\n",
      "\n",
      "unique values of index 6: {0.0, 1.0, 2.0, 3.0, 4.0, 5.0, 6.0, -1.0, -6.0, -5.0, -4.0, -3.0, -2.0}\n",
      "Num of unique values:  13\n",
      "\n",
      "unique values of index 7: {0.0, 1.0, 2.0, 3.0, 4.0, 5.0, 6.0, -2.0, -6.0, -5.0, -4.0, -3.0, -1.0}\n",
      "Num of unique values:  13\n",
      "\n",
      "unique values of index 8: {0.0, 1.0, 2.0, 3.0, 100.0, -2.0, -1.0}\n",
      "Num of unique values:  7\n",
      "\n",
      "unique values of index 9: {0.0, 1.0, 2.0, 100.0, -2.0, -1.0}\n",
      "Num of unique values:  6\n",
      "\n",
      "Feature combinations: 113568.0\n",
      "Needed training iterations: 11356.8\n",
      "Needed training iterations per epsilon: 1135.6799999999998\n"
     ]
    }
   ],
   "source": [
    "ls = list(q_table.keys())\n",
    "\n",
    "unique_val = np.zeros(10)\n",
    "for i in range(10):\n",
    "    objective_ouput_set = {item[i] for item in ls}\n",
    "    unique_val[i] = len(objective_ouput_set)\n",
    "\n",
    "\n",
    "    print(f\"unique values of index {i}: {objective_ouput_set}\")\n",
    "    print(\"Num of unique values: \", len(objective_ouput_set))\n",
    "    print()\n",
    "\n",
    "num_states = np.product(unique_val)\n",
    "print(f\"Feature combinations: {num_states}\")\n",
    "print(f\"Needed training iterations: {num_states/10}\")\n",
    "print(f\"Needed training iterations per epsilon: {(num_states/10)/10}\")"
   ]
  },
  {
   "cell_type": "markdown",
   "metadata": {},
   "source": [
    "Analyze performance after training"
   ]
  },
  {
   "cell_type": "code",
   "execution_count": 37,
   "metadata": {},
   "outputs": [],
   "source": [
    "def compute_x_y(df):\n",
    "    avg_batch = 10\n",
    "    x = np.arange(0, csv.shape[0], avg_batch)\n",
    "    y = []\n",
    "\n",
    "    for i in x:\n",
    "        scores = []\n",
    "        for score in range(i, i+avg_batch):\n",
    "            if score < csv.shape[0]:\n",
    "                scores.append(csv.iloc[score])\n",
    "            else:\n",
    "                break\n",
    "        y.append(np.average(scores))\n",
    "\n",
    "    return x, y"
   ]
  },
  {
   "cell_type": "code",
   "execution_count": 38,
   "metadata": {},
   "outputs": [],
   "source": [
    "def plot_points(x, y):\n",
    "    x, y = np.array(x), np.array(y)\n",
    "    fig, ax = plt.subplots(figsize=(12, 6))\n",
    "    ax.plot(x, y)\n",
    "    #ax.fill_between(x, y-0.2 ,y+0.3, color='#888888', alpha=0.4)\n",
    "    plt.xlabel(\"Training Rounds\")\n",
    "    plt.ylabel(\"average points earned per 10 rounds\")\n",
    "    plt.title(\"Average points earned based on the number of rounds trained\")"
   ]
  },
  {
   "cell_type": "code",
   "execution_count": 39,
   "metadata": {},
   "outputs": [],
   "source": [
    "def plot_for_e(x,y,e):\n",
    "    plot_points(x,y)\n",
    "    plt.title(f\"Average points earned based on the number of rounds trained with epsilon ={e}\")"
   ]
  },
  {
   "cell_type": "code",
   "execution_count": 45,
   "metadata": {},
   "outputs": [
    {
     "name": "stdout",
     "output_type": "stream",
     "text": [
      "training epochs: 693\n"
     ]
    },
    {
     "data": {
      "image/png": "[encoded data removed]",
      "text/plain": [
       "<Figure size 864x432 with 1 Axes>"
      ]
     },
     "metadata": {
      "needs_background": "light"
     },
     "output_type": "display_data"
    }
   ],
   "source": [
    "file_name = 'scores.csv'\n",
    "path = \"analytics/scores/\" + q_path.replace(\"csv\", \"txt\")\n",
    "\n",
    "csv = pd.read_csv(path, index_col=0)\n",
    "csv = csv.reset_index()\n",
    "csv = csv.drop('index', axis='columns')\n",
    "\n",
    "print(f\"training epochs: {csv.shape[0]}\")\n",
    "ls = [csv.iloc[i] for i in range(csv.shape[0])]\n",
    "#plot_points(x=np.arange(0, csv.shape[0], 1), y=ls) #actual points\n",
    "x, y = compute_x_y(csv)\n",
    "plot_points(x,y)\n"
   ]
  },
  {
   "cell_type": "markdown",
   "metadata": {},
   "source": [
    "approx"
   ]
  },
  {
   "cell_type": "code",
   "execution_count": 67,
   "metadata": {},
   "outputs": [
    {
     "ename": "TypeError",
     "evalue": "func() takes 3 positional arguments but 4 were given",
     "output_type": "error",
     "traceback": [
      "\u001b[0;31m---------------------------------------------------------------------------\u001b[0m",
      "\u001b[0;31mTypeError\u001b[0m                                 Traceback (most recent call last)",
      "\u001b[0;32m/var/folders/w3/97t5rll92mxf9q_7rfsyv4zw0000gn/T/ipykernel_660/2819838463.py\u001b[0m in \u001b[0;36m<module>\u001b[0;34m\u001b[0m\n\u001b[1;32m      9\u001b[0m \u001b[0;34m\u001b[0m\u001b[0m\n\u001b[1;32m     10\u001b[0m \u001b[0mx\u001b[0m \u001b[0;34m=\u001b[0m \u001b[0mnp\u001b[0m\u001b[0;34m.\u001b[0m\u001b[0mlinspace\u001b[0m\u001b[0;34m(\u001b[0m\u001b[0;36m0\u001b[0m\u001b[0;34m,\u001b[0m \u001b[0;36m4\u001b[0m\u001b[0;34m,\u001b[0m \u001b[0;36m50\u001b[0m\u001b[0;34m)\u001b[0m\u001b[0;34m\u001b[0m\u001b[0;34m\u001b[0m\u001b[0m\n\u001b[0;32m---> 11\u001b[0;31m \u001b[0my\u001b[0m \u001b[0;34m=\u001b[0m \u001b[0mfunc\u001b[0m\u001b[0;34m(\u001b[0m\u001b[0mx\u001b[0m\u001b[0;34m,\u001b[0m \u001b[0;36m2.5\u001b[0m\u001b[0;34m,\u001b[0m \u001b[0;36m1.3\u001b[0m\u001b[0;34m,\u001b[0m \u001b[0;36m0.5\u001b[0m\u001b[0;34m)\u001b[0m\u001b[0;34m\u001b[0m\u001b[0;34m\u001b[0m\u001b[0m\n\u001b[0m\u001b[1;32m     12\u001b[0m \u001b[0myn\u001b[0m \u001b[0;34m=\u001b[0m \u001b[0my\u001b[0m \u001b[0;34m+\u001b[0m \u001b[0;36m0.2\u001b[0m\u001b[0;34m*\u001b[0m\u001b[0mnp\u001b[0m\u001b[0;34m.\u001b[0m\u001b[0mrandom\u001b[0m\u001b[0;34m.\u001b[0m\u001b[0mnormal\u001b[0m\u001b[0;34m(\u001b[0m\u001b[0msize\u001b[0m\u001b[0;34m=\u001b[0m\u001b[0mlen\u001b[0m\u001b[0;34m(\u001b[0m\u001b[0mx\u001b[0m\u001b[0;34m)\u001b[0m\u001b[0;34m)\u001b[0m\u001b[0;34m\u001b[0m\u001b[0;34m\u001b[0m\u001b[0m\n\u001b[1;32m     13\u001b[0m \u001b[0;34m\u001b[0m\u001b[0m\n",
      "\u001b[0;31mTypeError\u001b[0m: func() takes 3 positional arguments but 4 were given"
     ]
    }
   ],
   "source": [
    "import numpy as np\n",
    "import matplotlib.pyplot as plt\n",
    "from scipy.optimize import curve_fit\n",
    "\n",
    "\n",
    "def func(x, a, b):\n",
    "    return a * np.exp(-b * x)\n",
    "\n",
    "\n",
    "x = np.linspace(0, 4, 50)\n",
    "y = func(x, 2.5, 1.3, 0.5)\n",
    "yn = y + 0.2*np.random.normal(size=len(x))\n",
    "\n",
    "popt, pcov = curve_fit(func, x, yn)\n",
    "\n",
    "\n",
    "\n",
    "plt.figure(figsize=(10,6))\n",
    "plt.plot(x, yn, 'ko', label=\"Original Noised Data\")\n",
    "plt.plot(x, func(x, *popt), 'r-', label=\"Fitted Curve\")\n",
    "plt.legend()\n",
    "plt.show()\n"
   ]
  },
  {
   "cell_type": "code",
   "execution_count": 73,
   "metadata": {},
   "outputs": [],
   "source": [
    "import scipy"
   ]
  },
  {
   "cell_type": "code",
   "execution_count": 82,
   "metadata": {},
   "outputs": [
    {
     "data": {
      "text/plain": [
       "2.0137527074704766"
      ]
     },
     "execution_count": 82,
     "metadata": {},
     "output_type": "execute_result"
    }
   ],
   "source": [
    "np.exp(0.7)"
   ]
  },
  {
   "cell_type": "code",
   "execution_count": 115,
   "metadata": {},
   "outputs": [
    {
     "name": "stdout",
     "output_type": "stream",
     "text": [
      "R² = 1.0\n",
      "Y = 0.99899999989851 * e^(-0.010000000005584054 * x) + 1.3676904040531653e-10\n",
      "Tau = 4999.999997207973 µs\n"
     ]
    },
    {
     "data": {
      "image/png": "[encoded data removed]",
      "text/plain": [
       "<Figure size 432x288 with 1 Axes>"
      ]
     },
     "metadata": {
      "needs_background": "light"
     },
     "output_type": "display_data"
    },
    {
     "data": {
      "image/png": "[encoded data removed]",
      "text/plain": [
       "<Figure size 720x432 with 1 Axes>"
      ]
     },
     "metadata": {
      "needs_background": "light"
     },
     "output_type": "display_data"
    }
   ],
   "source": [
    "def monoExp(x, m, t, b):\n",
    "    return m * np.exp(-t * x) + b\n",
    "\n",
    "\n",
    "xs = np.arange(400)\n",
    "ys = [0.999*np.exp(-val*0.01) for val in range(400)]\n",
    "\n",
    "\n",
    "\n",
    "plt.plot(xs, ys, '.')\n",
    "plt.title(\"Original Data\")\n",
    "\n",
    "# perform the fit\n",
    "p0 = (2000, .1, 50)  # start with values near those we expect\n",
    "params, cv = scipy.optimize.curve_fit(monoExp, xs, ys)\n",
    "m, t, b = params\n",
    "sampleRate = 20_000  # Hz\n",
    "tauSec = (1 / t) / sampleRate\n",
    "\n",
    "# determine quality of the fit\n",
    "squaredDiffs = np.square(ys - monoExp(xs, m, t, b))\n",
    "squaredDiffsFromMean = np.square(ys - np.mean(ys))\n",
    "rSquared = 1 - np.sum(squaredDiffs) / np.sum(squaredDiffsFromMean)\n",
    "print(f\"R² = {rSquared}\")\n",
    "\n",
    "# plot the results\n",
    "plt.figure(figsize=(10, 6))\n",
    "plt.plot(xs, ys, '.', label=\"data\")\n",
    "plt.plot(xs, monoExp(xs, m, t, b), '--', label=\"fitted\")\n",
    "plt.title(\"Fitted Exponential Curve\")\n",
    "\n",
    "# inspect the parameters\n",
    "print(f\"Y = {m} * e^(-{t} * x) + {b}\")\n",
    "print(f\"Tau = {tauSec * 1e6} µs\")\n"
   ]
  },
  {
   "cell_type": "markdown",
   "metadata": {},
   "source": [
    "Manhattan distance"
   ]
  },
  {
   "cell_type": "code",
   "execution_count": 173,
   "metadata": {},
   "outputs": [
    {
     "name": "stdout",
     "output_type": "stream",
     "text": [
      "before: 212.0, and 12.0\n",
      "F1: -0.0\n",
      "F2: -17.5\n"
     ]
    }
   ],
   "source": [
    "from scipy.spatial.distance import cityblock\n",
    "\n",
    "#define vectors\n",
    "A = list((-2.0, 6.0, 1.0, 0.0, 0.0, 1.0, -2.0, 0.0, 100.0, 100.0))\n",
    "b = list((-2.0, 6.0, 1.0, 0.0, 0.0, 1.0, -2.0, 0.0, 0.0, 0.0))\n",
    "GOAL = list((0.0, 0.0, 0.0, 0.0, 0.0, 0.0, 0.0, 0.0, 0.0, 0.0))\n",
    "GOAL2 = list((0.0, 0.0, 1.0, 1.0, 0.0, 0.0, 0.0, 0.0, 0.0, 0.0))\n",
    "\n",
    "\n",
    "#calculate Manhattan distance between vectors\n",
    "dist = cityblock(GOAL, A)\n",
    "dist2 = cityblock(GOAL, b)\n",
    "print(f\"before: {dist}, and {dist2}\")\n",
    "\n",
    "dist = cityblock(GOAL2, GOAL, w=[1, 1, 0, 0, 0, 0, 3, 3, 4, 4])\n",
    "dist2 = cityblock(GOAL, b, w=[1, 1, 1, 1, 1, 1, 2, 2, 3, 3])\n",
    "\n",
    "Fi = -dist / 0.8\n",
    "Fi2 = -dist2 / 0.8\n",
    "print(f\"F1: {Fi}\")\n",
    "print(f\"F2: {Fi2}\")\n"
   ]
  },
  {
   "cell_type": "markdown",
   "metadata": {},
   "source": [
    "train ooo\n"
   ]
  },
  {
   "cell_type": "code",
   "execution_count": 48,
   "metadata": {},
   "outputs": [
    {
     "name": "stdout",
     "output_type": "stream",
     "text": [
      "705600\n"
     ]
    },
    {
     "data": {
      "text/plain": [
       "[(0, 0, 0, 0, 0, 0, 0, 0, 0, 0),\n",
       " (0, 0, 0, 0, 0, 0, 0, 0, 0, 1),\n",
       " (0, 0, 0, 0, 0, 0, 0, 0, 0, 2),\n",
       " (0, 0, 0, 0, 0, 0, 0, 0, 0, 3),\n",
       " (0, 0, 0, 0, 0, 0, 0, 0, 0, 4)]"
      ]
     },
     "execution_count": 48,
     "metadata": {},
     "output_type": "execute_result"
    }
   ],
   "source": [
    "q_t = {}\n",
    "\n",
    "coin_x, coin_y = list(np.arange(0, 5, 1)), list(np.arange(0, 5, 1))\n",
    "left, right, up, down = [0, 1], [0, 1], [0, 1], [0, 1]\n",
    "crate_x, crate_y = list(np.arange(0, 7, 1)), list(np.arange(0, 7, 1))\n",
    "bomb_x, bomb_y = list(np.arange(0, 6, 1)), list(np.arange(0, 6, 1))\n",
    "\n",
    "keys = list(itertools.product(coin_x, coin_y, left,\n",
    "              right, up, down, crate_x, crate_y, bomb_x, bomb_y))\n",
    "print(len(keys))\n",
    "\n",
    "keys[:5]\n"
   ]
  },
  {
   "cell_type": "code",
   "execution_count": 51,
   "metadata": {},
   "outputs": [],
   "source": [
    "for key in keys:\n",
    "    value = q_t_initialization(key) \n",
    "    q_t[key] = value"
   ]
  },
  {
   "cell_type": "code",
   "execution_count": 52,
   "metadata": {},
   "outputs": [
    {
     "name": "stdout",
     "output_type": "stream",
     "text": [
      "(0, 4, 1, 0, 1, 1, 0, 6, 2, 2)\n"
     ]
    },
    {
     "data": {
      "text/plain": [
       "array([100.,   0., 100., 100.,   0.,   0.])"
      ]
     },
     "execution_count": 52,
     "metadata": {},
     "output_type": "execute_result"
    }
   ],
   "source": [
    "key = keys[132530]\n",
    "print(key)\n",
    "q_t[key]\n"
   ]
  },
  {
   "cell_type": "code",
   "execution_count": 53,
   "metadata": {},
   "outputs": [],
   "source": [
    "with open(\"data/q_table-PREInitialization.csv\", \"wb\") as file:\n",
    "    pickle.dump(q_t, file)\n"
   ]
  },
  {
   "cell_type": "code",
   "execution_count": 50,
   "metadata": {},
   "outputs": [],
   "source": [
    "def q_t_initialization(state):\n",
    "    new_row = np.zeros(6)\n",
    "\n",
    "    coin_x, coin_y = state[0:2]\n",
    "    left, right, up, down = state[2:6]\n",
    "    crate_x, crate_y = state[6:8]\n",
    "    bomb_x, bomb_y = state[8:10]\n",
    "\n",
    "    if bomb_x != 0 and bomb_y != 0:\n",
    "        for i, move in enumerate([up, right, down, left]):\n",
    "            # can move to this direction\n",
    "            if move == 1:\n",
    "                new_row[i] = 100\n",
    "\n",
    "    if bomb_x != 0 and bomb_y == 0:\n",
    "        for i, move in enumerate([up, 0, down, 0]):\n",
    "            if move == 1:\n",
    "                new_row[i] = 100\n",
    "\n",
    "    if bomb_x == 0 and bomb_y != 0:\n",
    "        for i, move in enumerate([0, right, 0, left]):\n",
    "            # can move to this direction\n",
    "            if move == 1:\n",
    "                new_row[i] = 100\n",
    "\n",
    "    if bomb_x == 0 and bomb_y == 0:\n",
    "        # coins\n",
    "        if coin_x != 0 and coin_y == 0:\n",
    "            for i, move in enumerate([up, 0, down, 0]):\n",
    "                if move == 1:\n",
    "                    new_row[i] = 50\n",
    "        if coin_x == 0 and coin_y != 0:\n",
    "            for i, move in enumerate([0, right, 0, left]):\n",
    "                # can move to this direction\n",
    "                if move == 1:\n",
    "                    new_row[i] = 50\n",
    "        if coin_x != 0 and coin_y != 0:\n",
    "            for i, move in enumerate([up, right, down, left]):\n",
    "                # can move to this direction\n",
    "                if move == 1:\n",
    "                    new_row[i] = 50\n",
    "\n",
    "        # crates\n",
    "        else:\n",
    "            if crate_x != 0 and crate_y == 0:\n",
    "                for i, move in enumerate([up, 0, down, 0]):\n",
    "                    if move == 1:\n",
    "                        new_row[i] = 30\n",
    "            if crate_x == 0 and crate_y != 0:\n",
    "                for i, move in enumerate([0, right, 0, left]):\n",
    "                    # can move to this direction\n",
    "                    if move == 1:\n",
    "                        new_row[i] = 30\n",
    "            if crate_x != 0 and crate_y != 0:\n",
    "                for i, move in enumerate([up, right, down, left]):\n",
    "                    # can move to this direction\n",
    "                    if move == 1:\n",
    "                        new_row[i] = 30\n",
    "\n",
    "    return new_row\n"
   ]
  },
  {
   "cell_type": "markdown",
   "metadata": {},
   "source": [
    "PCA"
   ]
  },
  {
   "cell_type": "code",
   "execution_count": null,
   "metadata": {},
   "outputs": [],
   "source": [
    "import matplotlib.pyplot as plt\n",
    "df = pd.read_csv(\n",
    "    '/Users/angelinabasova/bomberman_rl/agent_code/OWN/TD.csv', header=None)\n",
    "print(df.shape)\n",
    "\n",
    "df_clean = df.drop_duplicates()\n",
    "df_c = df_clean.reset_index(drop=True)\n",
    "\n",
    "\n",
    "df_c.to_csv(\n",
    "    '/Users/angelinabasova/bomberman_rl/agent_code/OWN/TD_non_duplicate.csv')\n",
    "df_c\n",
    "data = df_c.to_numpy()\n",
    "\n",
    "data = StandardScaler().fit_transform(data)\n",
    "\n",
    "pca = PCA(n_components=0.95).fit(data)\n",
    "reduced = pca.transform(data)\n",
    "\n",
    "print(\"Shape after PCA: \", reduced.shape)\n",
    "\n",
    "plt.rcParams[\"figure.figsize\"] = (12, 6)\n",
    "\n",
    "fig, ax = plt.subplots()\n",
    "xi = np.arange(1, 38, step=1)\n",
    "y = np.cumsum(pca.explained_variance_ratio_)\n",
    "\n",
    "plt.ylim(0.0, 1.1)\n",
    "plt.plot(xi, y, marker='o', linestyle='--', color='b')\n",
    "\n",
    "plt.xlabel('Number of Components')\n",
    "# change from 0-based array index to 1-based human-readable label\n",
    "plt.xticks(np.arange(0, 40, step=1))\n",
    "plt.ylabel('Cumulative variance (%)')\n",
    "plt.title('The number of components needed to explain variance')\n",
    "\n",
    "plt.axhline(y=0.95, color='r', linestyle='-')\n",
    "plt.text(0.5, 0.85, '95% cut-off threshold', color='red', fontsize=16)\n",
    "\n",
    "ax.grid(axis='x')\n",
    "plt.show()\n",
    "reduced[3]\n",
    "\n",
    "test = np.array([0.45914873,  0.19405837,  2.63515525,  1.34433142, -0.41451839,\n",
    "                 -0.43510851,  1.59364941, -0.15853712, -0.41292084, -0.2988862,\n",
    "                 0.0902997, -0.03389423, -0.19783136,  0.05835278, -0.11261372,\n",
    "                 0.23766401,  0.38740795, -0.69633493,  0.8515969,  0.01799596,\n",
    "                 -0.51113631, -0.88157413,  2.07341043,  2.01515241,  0.31926949,\n",
    "                 0.2335254,  0.76769847, -0.28289524,  0.4042563, -0.0945597,\n",
    "                 -0.57767953,  1.36608969,  4.16456593, -0.50406059, -1.57587462,\n",
    "                 -0.15152042, -0.57306101])\n",
    "\n",
    "print(type(reduced[3]))\n",
    "np.all(reduced[3] == test, axis=0)\n"
   ]
  },
  {
   "cell_type": "code",
   "execution_count": 15,
   "metadata": {},
   "outputs": [
    {
     "data": {
      "image/png": "[encoded data removed]",
      "text/plain": [
       "<Figure size 1080x1080 with 1 Axes>"
      ]
     },
     "metadata": {
      "needs_background": "light"
     },
     "output_type": "display_data"
    }
   ],
   "source": [
    "fig = plt.figure(figsize=(15, 15))\n",
    "ax = fig.add_subplot(1, 1, 1)\n",
    "ax.set_xlim(25, 30)\n",
    "ax.set_ylim(60, 120)\n",
    "for value in ['x','y']:\n",
    "    ax.text(10, 10, value, fontsize=40)\n",
    "plt.title('Features')\n",
    "plt.show()\n"
   ]
  },
  {
   "cell_type": "code",
   "execution_count": null,
   "metadata": {},
   "outputs": [],
   "source": []
  }
 ],
 "metadata": {
  "interpreter": {
   "hash": "949777d72b0d2535278d3dc13498b2535136f6dfe0678499012e853ee9abcab1"
  },
  "kernelspec": {
   "display_name": "Python 3.9.0 64-bit",
   "language": "python",
   "name": "python3"
  },
  "language_info": {
   "codemirror_mode": {
    "name": "ipython",
    "version": 3
   },
   "file_extension": ".py",
   "mimetype": "text/x-python",
   "name": "python",
   "nbconvert_exporter": "python",
   "pygments_lexer": "ipython3",
   "version": "3.9.0"
  },
  "orig_nbformat": 4
 },
 "nbformat": 4,
 "nbformat_minor": 2
}
